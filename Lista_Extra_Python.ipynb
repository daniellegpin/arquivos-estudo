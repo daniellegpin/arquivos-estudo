{
  "cells": [
    {
      "cell_type": "markdown",
      "metadata": {
        "id": "view-in-github",
        "colab_type": "text"
      },
      "source": [
        "<a href=\"https://colab.research.google.com/github/daniellegpin/arquivos-estudo/blob/main/Lista_Extra_Python.ipynb\" target=\"_parent\"><img src=\"https://colab.research.google.com/assets/colab-badge.svg\" alt=\"Open In Colab\"/></a>"
      ]
    },
    {
      "cell_type": "markdown",
      "metadata": {
        "id": "t8qG28pDnfuM"
      },
      "source": [
        "# Exercícios - Python "
      ]
    },
    {
      "cell_type": "markdown",
      "metadata": {
        "id": "N9fXnHvPnfuN"
      },
      "source": [
        "1) Imprima a frase \"Eu sou Dexteeer!\""
      ]
    },
    {
      "cell_type": "code",
      "source": [
        "print('Eu sou Dexteeer!')"
      ],
      "metadata": {
        "id": "N2Zw3bVyF5K3",
        "outputId": "7eee0949-f3a7-4fcf-efc0-42664e340b57",
        "colab": {
          "base_uri": "https://localhost:8080/"
        }
      },
      "execution_count": 1,
      "outputs": [
        {
          "output_type": "stream",
          "name": "stdout",
          "text": [
            "Eu sou Dexteeer!\n"
          ]
        }
      ]
    },
    {
      "cell_type": "markdown",
      "metadata": {
        "id": "dK5aLDPDnfuO"
      },
      "source": [
        "2) Faça operações matemáticas de soma, subtração, multiplicação e divisão."
      ]
    },
    {
      "cell_type": "code",
      "source": [
        "soma = 2+2\n",
        "sub = 2-2\n",
        "mult = 2*2\n",
        "div = 2/2\n",
        "\n",
        "print(soma)\n",
        "print(sub)\n",
        "print(mult)\n",
        "print(div)"
      ],
      "metadata": {
        "id": "cyOlTVkfGYHr",
        "outputId": "ddaab5c7-aef1-4aef-c5ee-324e74d794bf",
        "colab": {
          "base_uri": "https://localhost:8080/"
        }
      },
      "execution_count": 2,
      "outputs": [
        {
          "output_type": "stream",
          "name": "stdout",
          "text": [
            "4\n",
            "0\n",
            "4\n",
            "1.0\n"
          ]
        }
      ]
    },
    {
      "cell_type": "markdown",
      "metadata": {
        "id": "Y1hfyqi3nfuO"
      },
      "source": [
        "3) Imprima o tipo de um determinado valor inteiro."
      ]
    },
    {
      "cell_type": "code",
      "source": [
        "x = 1\n",
        "print(x)\n",
        "print(type(x))"
      ],
      "metadata": {
        "id": "GeBR9okmHBhF",
        "outputId": "8bea620e-1c6b-4394-fdff-082ca3768ef1",
        "colab": {
          "base_uri": "https://localhost:8080/"
        }
      },
      "execution_count": 19,
      "outputs": [
        {
          "output_type": "stream",
          "name": "stdout",
          "text": [
            "1\n",
            "<class 'int'>\n"
          ]
        }
      ]
    },
    {
      "cell_type": "markdown",
      "metadata": {
        "id": "lpMenLb2nfuP"
      },
      "source": [
        "4) Converta o valor passado anteriormente para o tipo float"
      ]
    },
    {
      "cell_type": "code",
      "source": [
        "x = float(x)\n",
        "print(x)\n",
        "print(type(x))"
      ],
      "metadata": {
        "id": "XjnuQ1SYJH2N",
        "outputId": "264f3726-b92c-4617-9f0d-5101ed5920fb",
        "colab": {
          "base_uri": "https://localhost:8080/"
        }
      },
      "execution_count": 18,
      "outputs": [
        {
          "output_type": "stream",
          "name": "stdout",
          "text": [
            "1.0\n",
            "<class 'float'>\n"
          ]
        }
      ]
    },
    {
      "cell_type": "markdown",
      "metadata": {
        "id": "L3naneHLnfuP"
      },
      "source": [
        "5) Faça a conversão do valor float recebido anteriormente para o tipo string"
      ]
    },
    {
      "cell_type": "code",
      "source": [
        "x = str(x)\n",
        "print(x)\n",
        "print(type(x))"
      ],
      "metadata": {
        "id": "ycl3p-UWKbH2",
        "outputId": "81d099dc-07b7-4d9f-a6cd-1517b96e3d5a",
        "colab": {
          "base_uri": "https://localhost:8080/"
        }
      },
      "execution_count": 20,
      "outputs": [
        {
          "output_type": "stream",
          "name": "stdout",
          "text": [
            "1\n",
            "<class 'str'>\n"
          ]
        }
      ]
    },
    {
      "cell_type": "markdown",
      "metadata": {
        "id": "DfN6mDVonfuQ"
      },
      "source": [
        "6) Utilizando funções de arredonamento faça:\n",
        "- Arredonde o valor 2.898\n",
        "- Arredonde o valor 2.4545455 e exiba apenas 4 cadas decimais"
      ]
    },
    {
      "cell_type": "code",
      "source": [
        "v1 = 2.898\n",
        "print('{:.0f}'.format(v1))\n",
        "v2 = 2.4545455\n",
        "print('{:.4f}'.format(v2))"
      ],
      "metadata": {
        "id": "5PdWmOmKKrre",
        "outputId": "95dd6662-d01d-4b5e-953c-934c8923e7fa",
        "colab": {
          "base_uri": "https://localhost:8080/"
        }
      },
      "execution_count": 22,
      "outputs": [
        {
          "output_type": "stream",
          "name": "stdout",
          "text": [
            "3\n",
            "2.4545\n"
          ]
        }
      ]
    },
    {
      "cell_type": "markdown",
      "metadata": {
        "id": "rKA0Gdl0nfuQ"
      },
      "source": [
        "7) Utilizando variáveis faça:\n",
        "- Defina uma variável com o seu nome e imprima o seu valor.\n",
        "- Imprima o tipo dessa variável.\n",
        "- Substitua o valor da sua variável nome com a concatenação do seu valor e o seu sobrenome, depois, imprima o novo valor.\n",
        "    - obs: O resultado dessa variável será Nome Sobrenome, exemplo, Felipe Santana.\n",
        "- Defina duas variaveis com os valores do seu email e idade com apenas uma linha de comando, depois, imprima seus valores."
      ]
    },
    {
      "cell_type": "code",
      "source": [
        "nome = 'Danielle'\n",
        "print(nome)\n",
        "sobrenome = ' Gonçalves'\n",
        "nome = nome + sobrenome\n",
        "print(nome)\n"
      ],
      "metadata": {
        "id": "Se6FtesROVHv",
        "outputId": "96204f9e-73d0-46aa-f698-caec1e843aeb",
        "colab": {
          "base_uri": "https://localhost:8080/"
        }
      },
      "execution_count": 25,
      "outputs": [
        {
          "output_type": "stream",
          "name": "stdout",
          "text": [
            "Danielle\n",
            "Danielle Gonçalves\n"
          ]
        }
      ]
    },
    {
      "cell_type": "markdown",
      "metadata": {
        "id": "Xj8LZ11infuR"
      },
      "source": [
        "8) Explique a causa do erro se executar a seguinte instrução para criar uma nova variável: break=10"
      ]
    },
    {
      "cell_type": "code",
      "source": [
        "# break é uma função definida pela linguagem Python, logo não é possivel utilizar como o nome de uma variável."
      ],
      "metadata": {
        "id": "bjQ5V2QsausG"
      },
      "execution_count": 26,
      "outputs": []
    },
    {
      "cell_type": "markdown",
      "metadata": {
        "id": "UipeTegTnfuS"
      },
      "source": [
        "9) Sobre os objetos Strings, faça:\n",
        "- Defina uma variavel com a string: \"Python é uma maldição!\" e imprima\n",
        "- Imprima o primeiro caracter da variavel.\n",
        "- Imprima os valores do primeiro caracter até o 6.\n",
        "- Faça a contagem de todos os caracteres utilizando uma única linha de comando.\n",
        "- Faça uma contagem de quantos vezes a palavra dados aparece na seguinte frase:\n",
        "    - \"dados é o novo petróleo, em Deus eu confio, para o resto me traga dados..\"\n",
        "- Substitua o primeiro caracter da frase acima para maiúsculo\n",
        "- Quebre as palavras da frase separado por virgula, criando uma lista."
      ]
    },
    {
      "cell_type": "code",
      "source": [
        "s = 'Python é uma maldição!'\n",
        "print(s)\n",
        "print(s[0])\n",
        "print(s[:6])\n",
        "print(len(s))\n",
        "print()\n",
        "f = 'dados é o novo petróleo, em Deus eu confio, para o resto me traga dados'\n",
        "print(f)\n",
        "print()\n",
        "fLista = f.split()\n",
        "#print(fLista)\n",
        "dadosFreq = []\n",
        "\n",
        "for d in fLista:\n",
        "  dadosFreq.append(fLista.count(d))\n",
        "\n",
        "# print(str(list(zip(fLista, dadosFreq))))\n",
        "print('Frequência da palavra dados = ', dadosFreq[0])\n",
        "print()\n",
        "l = list(f)\n",
        "l[0] = 'D'\n",
        "f = ''.join(l)\n",
        "print(f)\n",
        "print()\n",
        "l2 = list(fLista)\n",
        "print(l2)"
      ],
      "metadata": {
        "id": "qMaTuoFTbln-",
        "outputId": "3eaefb56-3961-48c4-fe38-fd743e117a6e",
        "colab": {
          "base_uri": "https://localhost:8080/"
        }
      },
      "execution_count": 63,
      "outputs": [
        {
          "output_type": "stream",
          "name": "stdout",
          "text": [
            "Python é uma maldição!\n",
            "P\n",
            "Python\n",
            "22\n",
            "\n",
            "dados é o novo petróleo, em Deus eu confio, para o resto me traga dados\n",
            "\n",
            "Frequência da palavra dados =  2\n",
            "\n",
            "Dados é o novo petróleo, em Deus eu confio, para o resto me traga dados\n",
            "\n",
            "['dados', 'é', 'o', 'novo', 'petróleo,', 'em', 'Deus', 'eu', 'confio,', 'para', 'o', 'resto', 'me', 'traga', 'dados']\n"
          ]
        }
      ]
    },
    {
      "cell_type": "markdown",
      "metadata": {
        "id": "sOfK05ypnfuS"
      },
      "source": [
        "10) Trabalhando com Listas, faça:\n",
        "- Cria uma lista de valores inteiros com o nome idades.\n",
        "- Imprima apenas segundo elemento da lista.\n",
        "- Imprima a contagem de valores da lista.\n",
        "- Substitua o valor do segundo elemento da lista e imprima o resultado.\n",
        "- Imprima apenas os valores do segundo elemento em diante.\n",
        "- Remova qualquer elemento da lista e imprima o resultado.\n",
        "- Defina uma lista chamada salarios com os valores : 900,1200,1500,800,12587,10000.\n",
        "- Verifique se contém o valor 10000 na lista de salarios.\n",
        "- Imprima o menor e maior valor da lista.\n",
        "- Adicione o valor 7000 a lista.\n",
        "- Extenda a lista com dois novos elementos utilizando apenas um método.\n",
        "- Imprima o índice do elemento de valor 800 da lista de salarios.\n",
        "- Faça uma ordenação dos valores da lista de salarios em ordem crescente e decrescente."
      ]
    },
    {
      "cell_type": "code",
      "source": [],
      "metadata": {
        "id": "VxM52Dc5pUHf"
      },
      "execution_count": null,
      "outputs": []
    }
  ],
  "metadata": {
    "colab": {
      "provenance": [],
      "include_colab_link": true
    },
    "kernelspec": {
      "display_name": "Python 3",
      "language": "python",
      "name": "python3"
    },
    "language_info": {
      "codemirror_mode": {
        "name": "ipython",
        "version": 3
      },
      "file_extension": ".py",
      "mimetype": "text/x-python",
      "name": "python",
      "nbconvert_exporter": "python",
      "pygments_lexer": "ipython3",
      "version": "3.6.5"
    }
  },
  "nbformat": 4,
  "nbformat_minor": 0
}